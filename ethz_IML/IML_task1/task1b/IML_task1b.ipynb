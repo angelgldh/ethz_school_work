{
 "cells": [
  {
   "cell_type": "code",
   "execution_count": 85,
   "metadata": {},
   "outputs": [],
   "source": [
    "import numpy as np\n",
    "import pandas as pd\n",
    "from sklearn.linear_model import LinearRegression\n",
    "from sklearn.linear_model import Ridge\n",
    "from sklearn.linear_model import Lasso\n",
    "from sklearn.model_selection import GridSearchCV\n",
    "from sklearn.model_selection import KFold\n",
    "from sklearn.preprocessing import StandardScaler\n",
    "from sklearn.linear_model import LassoCV\n",
    "from sklearn.linear_model import RidgeCV"
   ]
  },
  {
   "cell_type": "code",
   "execution_count": 40,
   "metadata": {},
   "outputs": [],
   "source": [
    "def transform_data(X):\n",
    "    \"\"\"\n",
    "    This function transforms the 5 input features of matrix X (x_i denoting the i-th component of X) \n",
    "    into 21 new features phi(X) in the following manner:\n",
    "    5 linear features: phi_1(X) = x_1, phi_2(X) = x_2, phi_3(X) = x_3, phi_4(X) = x_4, phi_5(X) = x_5\n",
    "    5 quadratic features: phi_6(X) = x_1^2, phi_7(X) = x_2^2, phi_8(X) = x_3^2, phi_9(X) = x_4^2, phi_10(X) = x_5^2\n",
    "    5 exponential features: phi_11(X) = exp(x_1), phi_12(X) = exp(x_2), phi_13(X) = exp(x_3), phi_14(X) = exp(x_4), phi_15(X) = exp(x_5)\n",
    "    5 cosine features: phi_16(X) = cos(x_1), phi_17(X) = cos(x_2), phi_18(X) = cos(x_3), phi_19(X) = cos(x_4), phi_20(X) = cos(x_5)\n",
    "    1 constant features: phi_21(X)=1\n",
    "\n",
    "    Parameters\n",
    "    ----------\n",
    "    X: matrix of floats, dim = (700,5), inputs with 5 features\n",
    "\n",
    "    Returns\n",
    "    ----------\n",
    "    X_transformed: array of floats: dim = (700,21), transformed input with 21 features\n",
    "    \"\"\"\n",
    "    X_transformed = np.zeros((700, 21))\n",
    "    \n",
    "    X_linear = X\n",
    "    X_squared = np.square(X)\n",
    "    X_exp = np.exp(X)\n",
    "    X_cos = np.cos(X)\n",
    "    X_constant = np.ones(shape = (X.shape[0],1))\n",
    "\n",
    "    X_transformed = np.concatenate([X_linear, X_squared, X_exp, X_cos,X_constant], axis=1)\n",
    "\n",
    "    assert X_transformed.shape == (700, 21)\n",
    "    return X_transformed\n"
   ]
  },
  {
   "cell_type": "code",
   "execution_count": 86,
   "metadata": {},
   "outputs": [],
   "source": [
    "def fit(X, y):\n",
    "    \"\"\"\n",
    "    This function receives training data points, transform them, and then fits the linear regression on this \n",
    "    transformed data. Finally, it outputs the weights of the fitted linear regression. \n",
    "\n",
    "    Parameters\n",
    "    ----------\n",
    "    X: matrix of floats, dim = (700,5), inputs with 5 features\n",
    "    y: array of floats, dim = (700,), input labels)\n",
    "\n",
    "    Returns\n",
    "    ----------\n",
    "    w: array of floats: dim = (21,), optimal parameters of linear regression\n",
    "    \"\"\"\n",
    "    w = np.zeros((21,))\n",
    "    X_transformed = transform_data(X)\n",
    "    method = \"Ridge\"\n",
    "\n",
    "    if method == \"lm\":\n",
    "        lm = LinearRegression()\n",
    "        lm.fit(X_transformed, y)\n",
    "        w = lm.coef_\n",
    "    elif method == \"Ridge\":\n",
    "        ridge_reg = Ridge(alpha=0.1)\n",
    "        ridge_reg.fit(X_transformed, y)\n",
    "        w = ridge_reg.coef_\n",
    "    elif method == \"Lasso\":\n",
    "        Lasso_reg = Lasso(alpha=0.1)\n",
    "        Lasso_reg.fit(X_transformed, y)\n",
    "        w = Lasso_reg.coef_\n",
    "    elif method == \"RidgeCV\":\n",
    "        ridge_cv = Ridge()\n",
    "        params = {'alpha': np.linspace(0,10, 100)}\n",
    "        ridge_grid = GridSearchCV(ridge_cv, params, cv=5)\n",
    "        ridge_grid.fit(X_transformed, y)\n",
    "        print(\"Best Ridge alpha:\", ridge_grid.best_params_['alpha'])\n",
    "\n",
    "        reg = RidgeCV(cv=10, alphas=np.linspace(1,100, num=100), fit_intercept=False )\n",
    "        reg.fit(X_transformed, y)\n",
    "        w = reg.coef_\n",
    "        y_predicted = reg.predict(feature_matrix)\n",
    "        RMSE = mean_squared_error(y_predicted,y)**0.5\n",
    "        print(RMSE)\n",
    "\n",
    "    assert w.shape == (21,)\n",
    "    return w\n"
   ]
  },
  {
   "cell_type": "code",
   "execution_count": 87,
   "metadata": {},
   "outputs": [
    {
     "name": "stdout",
     "output_type": "stream",
     "text": [
      "     x1    x2    x3    x4    x5\n",
      "0  0.02  0.05 -0.09 -0.43 -0.08\n",
      "1 -0.13  0.11 -0.08 -0.29 -0.03\n",
      "2  0.08  0.06 -0.07 -0.41 -0.03\n",
      "3  0.02 -0.12  0.01 -0.43 -0.02\n",
      "4 -0.14 -0.12 -0.08 -0.02 -0.08\n"
     ]
    }
   ],
   "source": [
    "# Main function. You don't have to change this\n",
    "if __name__ == \"__main__\":\n",
    "    # Data loading\n",
    "    data = pd.read_csv(\"train.csv\")\n",
    "    y = data[\"y\"].to_numpy()\n",
    "    data = data.drop(columns=[\"Id\", \"y\"])\n",
    "    # print a few data samples\n",
    "    print(data.head())\n",
    "\n",
    "    X = data.to_numpy()\n",
    "    # The function retrieving optimal LR parameters\n",
    "    w = fit(X, y)\n",
    "    # Save results in the required format\n",
    "    np.savetxt(\"./results.csv\", w, fmt=\"%.12f\")"
   ]
  }
 ],
 "metadata": {
  "kernelspec": {
   "display_name": "base",
   "language": "python",
   "name": "python3"
  },
  "language_info": {
   "codemirror_mode": {
    "name": "ipython",
    "version": 3
   },
   "file_extension": ".py",
   "mimetype": "text/x-python",
   "name": "python",
   "nbconvert_exporter": "python",
   "pygments_lexer": "ipython3",
   "version": "3.8.5"
  },
  "orig_nbformat": 4
 },
 "nbformat": 4,
 "nbformat_minor": 2
}
