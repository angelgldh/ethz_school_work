{
 "cells": [
  {
   "cell_type": "code",
   "execution_count": 15,
   "metadata": {},
   "outputs": [],
   "source": [
    "import numpy as np\n",
    "import pandas as pd\n",
    "from sklearn.linear_model import LinearRegression, Ridge, Lasso, RidgeCV, LassoCV, ElasticNetCV\n",
    "from sklearn.model_selection import GridSearchCV\n",
    "from sklearn.model_selection import KFold\n",
    "from sklearn.ensemble import StackingRegressor, BaggingRegressor, GradientBoostingRegressor\n",
    "from sklearn.svm import SVR"
   ]
  },
  {
   "cell_type": "code",
   "execution_count": 4,
   "metadata": {},
   "outputs": [],
   "source": [
    "def transform_data(X):\n",
    "    \"\"\"\n",
    "    This function transforms the 5 input features of matrix X (x_i denoting the i-th component of X) \n",
    "    into 21 new features phi(X) in the following manner:\n",
    "    5 linear features: phi_1(X) = x_1, phi_2(X) = x_2, phi_3(X) = x_3, phi_4(X) = x_4, phi_5(X) = x_5\n",
    "    5 quadratic features: phi_6(X) = x_1^2, phi_7(X) = x_2^2, phi_8(X) = x_3^2, phi_9(X) = x_4^2, phi_10(X) = x_5^2\n",
    "    5 exponential features: phi_11(X) = exp(x_1), phi_12(X) = exp(x_2), phi_13(X) = exp(x_3), phi_14(X) = exp(x_4), phi_15(X) = exp(x_5)\n",
    "    5 cosine features: phi_16(X) = cos(x_1), phi_17(X) = cos(x_2), phi_18(X) = cos(x_3), phi_19(X) = cos(x_4), phi_20(X) = cos(x_5)\n",
    "    1 constant features: phi_21(X)=1\n",
    "\n",
    "    Parameters\n",
    "    ----------\n",
    "    X: matrix of floats, dim = (700,5), inputs with 5 features\n",
    "\n",
    "    Returns\n",
    "    ----------\n",
    "    X_transformed: array of floats: dim = (700,21), transformed input with 21 features\n",
    "    \"\"\"\n",
    "    X_transformed = np.zeros((700, 21))\n",
    "    \n",
    "    X_linear = X\n",
    "    X_squared = np.square(X)\n",
    "    X_exp = np.exp(X)\n",
    "    X_cos = np.cos(X)\n",
    "    X_constant = np.ones(shape = (X.shape[0],1))\n",
    "\n",
    "    X_transformed = np.concatenate([X_linear, X_squared, X_exp, X_cos,X_constant], axis=1)\n",
    "\n",
    "    assert X_transformed.shape == (700, 21)\n",
    "    return X_transformed\n"
   ]
  },
  {
   "cell_type": "code",
   "execution_count": 6,
   "metadata": {},
   "outputs": [],
   "source": [
    "data = pd.read_csv(\"train.csv\")\n",
    "y = data[\"y\"].to_numpy()\n",
    "data = data.drop(columns=[\"Id\", \"y\"])\n",
    "X = data.to_numpy()\n",
    "X_transformed = transform_data(X)\n",
    "\n",
    "ridge = RidgeCV(cv=10, alphas=np.linspace(0, 10, 10), fit_intercept=False)\n",
    "model = BaggingRegressor(base_estimator=ridge, n_estimators=3, random_state=42)\n",
    "\n",
    "model.fit(X_transformed, y)\n",
    "method =\"bagging\"\n",
    "if method == \"bagging\":\n",
    "    ridge_coefficients = []\n",
    "    for estimator in model.estimators_:\n",
    "        ridge_coefficients.append(estimator.coef_)\n",
    "\n",
    "    w = np.mean(ridge_coefficients, axis=0) \n"
   ]
  },
  {
   "cell_type": "code",
   "execution_count": 11,
   "metadata": {},
   "outputs": [
    {
     "name": "stdout",
     "output_type": "stream",
     "text": [
      "bagging. (training) RMSE: 1.9497499616701237\n"
     ]
    }
   ],
   "source": [
    "w.shape\n",
    "\n",
    "print(f\"{method}. (training) RMSE: {calculate_RMSE(w, X_transformed, y)}\")"
   ]
  },
  {
   "cell_type": "code",
   "execution_count": 22,
   "metadata": {},
   "outputs": [],
   "source": [
    "def fit(X, y, method):\n",
    "    \"\"\"\n",
    "    This function receives training data points, transform them, and then fits the linear regression on this \n",
    "    transformed data. Finally, it outputs the weights of the fitted linear regression. \n",
    "\n",
    "    Parameters\n",
    "    ----------\n",
    "    X: matrix of floats, dim = (700,5), inputs with 5 features\n",
    "    y: array of floats, dim = (700,), input labels)\n",
    "\n",
    "    Returns\n",
    "    ----------\n",
    "    w: array of floats: dim = (21,), optimal parameters of linear regression\n",
    "    \"\"\"\n",
    "    w = np.zeros((21,))\n",
    "    X_transformed = transform_data(X)\n",
    "    # method = \"lm\"\n",
    "\n",
    "\n",
    "    if method == \"lm\":\n",
    "        model = LinearRegression()\n",
    "        \n",
    "    elif method == \"Ridge\":\n",
    "        model = Ridge(alpha=0.1)\n",
    "        \n",
    "    elif method == \"Lasso\":\n",
    "        model = Lasso(alpha=0.1)\n",
    "        \n",
    "    elif method == \"RidgeCV\":\n",
    "        model = RidgeCV(cv=10, alphas= np.linspace(0,10, 100), fit_intercept=False )\n",
    "        \n",
    "    elif method == \"LassoCV\":\n",
    "        model = LassoCV(cv=10, alphas= np.linspace(0,10, 100), fit_intercept=False )\n",
    "    \n",
    "    elif method == \"stacking\":\n",
    "        ridge = RidgeCV(cv=10, alphas=np.linspace(0, 10, 100), fit_intercept=False)\n",
    "        lasso = LassoCV(cv=10, n_alphas=100, fit_intercept=False)\n",
    "        elastic_net = ElasticNetCV(cv=10, l1_ratio=[.1, .5, .7, .9, .95, .99, 1], n_alphas=100, fit_intercept=False)\n",
    "        svr = SVR()\n",
    "\n",
    "        model = StackingRegressor(\n",
    "            estimators=[\n",
    "                ('ridge', ridge),\n",
    "                ('lasso', lasso),\n",
    "                ('elastic_net', elastic_net),\n",
    "                ('svr', svr)\n",
    "            ])\n",
    "\n",
    "    model.fit(X_transformed, y)\n",
    "\n",
    "    if method == \"bagging\":\n",
    "        ridge_coefficients = []\n",
    "        for estimator in model.estimators_:\n",
    "            ridge_coefficients.append(estimator.coef_)\n",
    "\n",
    "        w = np.mean(ridge_coefficients, axis=0) \n",
    "    else:    \n",
    "        w = model.coef_\n",
    "\n",
    "    print(f\"{method}. (training) RMSE: {calculate_RMSE(w, X_transformed, y)}\")\n",
    "\n",
    "    assert w.shape == (21,)\n",
    "    return w\n"
   ]
  },
  {
   "cell_type": "code",
   "execution_count": 10,
   "metadata": {},
   "outputs": [],
   "source": [
    "def calculate_RMSE(w, X, y):\n",
    "    \"\"\"This function takes test data points (X and y), and computes the empirical RMSE of \n",
    "    predicting y from X using a linear model with weights w. \n",
    "\n",
    "    Parameters\n",
    "    ----------\n",
    "    w: array of floats: dim = (13,), optimal parameters of ridge regression \n",
    "    X: matrix of floats, dim = (15,13), inputs with 13 features\n",
    "    y: array of floats, dim = (15,), input labels\n",
    "\n",
    "    Returns\n",
    "    ----------\n",
    "    RMSE: float: dim = 1, RMSE value\n",
    "    \"\"\"\n",
    "    RMSE = 0\n",
    "    n, p = X.shape\n",
    "    \n",
    "    y_pred = X @ w\n",
    "    RMSE = np.sqrt((1/n)*np.sum((y - y_pred)**2) )\n",
    "\n",
    "    assert np.isscalar(RMSE)\n",
    "    return RMSE"
   ]
  },
  {
   "cell_type": "code",
   "execution_count": 25,
   "metadata": {},
   "outputs": [
    {
     "name": "stdout",
     "output_type": "stream",
     "text": [
      "     x1    x2    x3    x4    x5\n",
      "0  0.02  0.05 -0.09 -0.43 -0.08\n",
      "1 -0.13  0.11 -0.08 -0.29 -0.03\n",
      "2  0.08  0.06 -0.07 -0.41 -0.03\n",
      "3  0.02 -0.12  0.01 -0.43 -0.02\n",
      "4 -0.14 -0.12 -0.08 -0.02 -0.08\n",
      "RidgeCV. (training) RMSE: 1.9497250832567636\n"
     ]
    }
   ],
   "source": [
    "# Main function. You don't have to change this\n",
    "if __name__ == \"__main__\":\n",
    "    # Data loading\n",
    "    data = pd.read_csv(\"train.csv\")\n",
    "    y = data[\"y\"].to_numpy()\n",
    "    data = data.drop(columns=[\"Id\", \"y\"])\n",
    "    # print a few data samples\n",
    "    print(data.head())\n",
    "\n",
    "    X = data.to_numpy()\n",
    "    # The function retrieving optimal LR parameters\n",
    "    w = fit(X, y, method = \"RidgeCV\")\n",
    "    # Save results in the required format\n",
    "    np.savetxt(\"./results.csv\", w, fmt=\"%.12f\")"
   ]
  }
 ],
 "metadata": {
  "kernelspec": {
   "display_name": "base",
   "language": "python",
   "name": "python3"
  },
  "language_info": {
   "codemirror_mode": {
    "name": "ipython",
    "version": 3
   },
   "file_extension": ".py",
   "mimetype": "text/x-python",
   "name": "python",
   "nbconvert_exporter": "python",
   "pygments_lexer": "ipython3",
   "version": "3.8.5"
  },
  "orig_nbformat": 4
 },
 "nbformat": 4,
 "nbformat_minor": 2
}
