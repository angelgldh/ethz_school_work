{
  "nbformat": 4,
  "nbformat_minor": 0,
  "metadata": {
    "colab": {
      "provenance": [],
      "authorship_tag": "ABX9TyNCdPGXlXUmxtb6Riie6yYl"
    },
    "kernelspec": {
      "name": "python3",
      "display_name": "Python 3"
    },
    "language_info": {
      "name": "python"
    }
  },
  "cells": [
    {
      "cell_type": "code",
      "source": [
        "# This serves as a template which will guide you through the implementation of this task.  It is advised\n",
        "# to first read the whole template and get a sense of the overall structure of the code before trying to fill in any of the TODO gaps\n",
        "# First, we import necessary libraries:\n",
        "import numpy as np\n",
        "import pandas as pd"
      ],
      "metadata": {
        "id": "BuVPXZD1jeFx"
      },
      "execution_count": 1,
      "outputs": []
    },
    {
      "cell_type": "code",
      "source": [
        "train_df = pd.read_csv(\"train.csv\")\n",
        "\n",
        "print(\"Training data:\")\n",
        "print(\"Shape:\", train_df.shape)\n",
        "print(train_df.head(2))\n",
        "print('\\n')\n",
        "\n",
        "# Load test data\n",
        "test_df = pd.read_csv(\"test.csv\")\n",
        "\n",
        "print(\"Test data:\")\n",
        "print(test_df.shape)\n",
        "print(test_df.head(2))\n",
        "\n",
        "# Dummy initialization of the X_train, X_test and y_train   \n",
        "X_train = np.zeros_like(train_df.drop(['price_CHF'],axis=1))\n",
        "y_train = np.zeros_like(train_df['price_CHF'])\n",
        "X_test = np.zeros_like(test_df)"
      ],
      "metadata": {
        "colab": {
          "base_uri": "https://localhost:8080/"
        },
        "id": "hJwCEdo6jti3",
        "outputId": "3abc3ce6-7158-4fa9-b5a4-3e18bc058b7a"
      },
      "execution_count": 2,
      "outputs": [
        {
          "output_type": "stream",
          "name": "stdout",
          "text": [
            "Training data:\n",
            "Shape: (900, 11)\n",
            "   season  price_AUS  price_CHF  price_CZE  price_GER  price_ESP  price_FRA  \\\n",
            "0  spring        NaN   9.644028  -1.686248  -1.748076  -3.666005        NaN   \n",
            "1  summer        NaN   7.246061  -2.132377  -2.054363  -3.295697  -4.104759   \n",
            "\n",
            "   price_UK  price_ITA  price_POL  price_SVK  \n",
            "0 -1.822720  -3.931031        NaN  -3.238197  \n",
            "1 -1.826021        NaN        NaN  -3.212894  \n",
            "\n",
            "\n",
            "Test data:\n",
            "(100, 10)\n",
            "   season  price_AUS  price_CZE  price_GER  price_ESP  price_FRA  price_UK  \\\n",
            "0  spring        NaN   0.472985   0.707957        NaN  -1.136441 -0.596703   \n",
            "1  summer  -1.184837   0.358019        NaN  -3.199028  -1.069695       NaN   \n",
            "\n",
            "   price_ITA  price_POL  price_SVK  \n",
            "0        NaN   3.298693   1.921886  \n",
            "1  -1.420091   3.238307        NaN  \n"
          ]
        }
      ]
    },
    {
      "cell_type": "code",
      "source": [
        "# Pre-processing of the data\n",
        "\n",
        "# 1. Filter out zero or near-zero variance features.\n",
        "# 2. Perform imputation if required.\n",
        "# 3. Normalize to resolve numeric feature skewness.\n",
        "# 4. Standardize (center and scale) numeric features.\n",
        "# 5. Perform dimension reduction (e.g., PCA) on numeric features.\n",
        "# 6. One-hot or dummy encode categorical features.\n",
        "# 7. VIF test\n",
        "# 8. Feature selection \n",
        "\n",
        "# 1. feature variances\n",
        "feature_variances = train_df.var()\n",
        "\n",
        "threshold_variance = 0.3 # this value could be varied depending if we want \n",
        "selected_features = feature_variances[feature_variances > threshold_variance].index\n",
        "\n",
        "train_df_filtered = train_df[selected_features].join(train_df[\"season\"])\n",
        "\n"
      ],
      "metadata": {
        "colab": {
          "base_uri": "https://localhost:8080/"
        },
        "id": "VRP8YvqFkUvt",
        "outputId": "68ecaf1c-dbd7-4139-95e8-99ea1197fb24"
      },
      "execution_count": 12,
      "outputs": [
        {
          "output_type": "stream",
          "name": "stderr",
          "text": [
            "<ipython-input-12-7f75826bacb3>:13: FutureWarning: The default value of numeric_only in DataFrame.var is deprecated. In a future version, it will default to False. In addition, specifying 'numeric_only=None' is deprecated. Select only valid columns or specify the value of numeric_only to silence this warning.\n",
            "  feature_variances = train_df.var()\n"
          ]
        }
      ]
    },
    {
      "cell_type": "code",
      "source": [
        "# 2. Missingness per feature\n",
        "missing_values_per_season = train_df_filtered.groupby(\"season\").apply(lambda x: (x.isna().sum()))\n",
        "print(\"Number of missing values:\")\n",
        "print(missing_values_per_season)\n",
        "print(\"\\n\")\n",
        "\n",
        "missing_values_per_season_perct = train_df_filtered.groupby(\"season\").apply(lambda x: 100*((x.isna().sum())/len(x)))\n",
        "print(\"Percentage of missingness:\")\n",
        "print(missing_values_per_season_perct)\n",
        "\n",
        "# Conclusion > similar percentage of missing values per seaosn and per country (feature), with very high values (~30%)"
      ],
      "metadata": {
        "colab": {
          "base_uri": "https://localhost:8080/"
        },
        "id": "YcLYUWhd0Hz5",
        "outputId": "63d187a2-1066-408b-f82b-0814c192a831"
      },
      "execution_count": 20,
      "outputs": [
        {
          "output_type": "stream",
          "name": "stdout",
          "text": [
            "Number of missing values:\n",
            "        price_AUS  price_CHF  price_CZE  price_GER  price_ESP  price_FRA  \\\n",
            "season                                                                     \n",
            "autumn         74         64         72         65         70         65   \n",
            "spring         70         60         67         65         61         68   \n",
            "summer         57         74         65         65         68         63   \n",
            "winter         61         71         64         74         70         68   \n",
            "\n",
            "        price_UK  price_ITA  price_POL  price_SVK  season  \n",
            "season                                                     \n",
            "autumn        62         70         62         71       0  \n",
            "spring        79         68         70         67       0  \n",
            "summer        72         71         68         72       0  \n",
            "winter        74         57         65         71       0  \n",
            "\n",
            "\n",
            "Percentage of missingness:\n",
            "        price_AUS  price_CHF  price_CZE  price_GER  price_ESP  price_FRA  \\\n",
            "season                                                                     \n",
            "autumn  32.888889  28.444444  32.000000  28.888889  31.111111  28.888889   \n",
            "spring  31.111111  26.666667  29.777778  28.888889  27.111111  30.222222   \n",
            "summer  25.333333  32.888889  28.888889  28.888889  30.222222  28.000000   \n",
            "winter  27.111111  31.555556  28.444444  32.888889  31.111111  30.222222   \n",
            "\n",
            "         price_UK  price_ITA  price_POL  price_SVK  season  \n",
            "season                                                      \n",
            "autumn  27.555556  31.111111  27.555556  31.555556     0.0  \n",
            "spring  35.111111  30.222222  31.111111  29.777778     0.0  \n",
            "summer  32.000000  31.555556  30.222222  32.000000     0.0  \n",
            "winter  32.888889  25.333333  28.888889  31.555556     0.0  \n"
          ]
        }
      ]
    },
    {
      "cell_type": "code",
      "source": [
        "train_df[\"season\"].describe()"
      ],
      "metadata": {
        "colab": {
          "base_uri": "https://localhost:8080/"
        },
        "id": "KvzjKljplh73",
        "outputId": "bf1e9d4a-aa4b-4d55-dd9e-7b046a5c4bb7"
      },
      "execution_count": 7,
      "outputs": [
        {
          "output_type": "execute_result",
          "data": {
            "text/plain": [
              "count        900\n",
              "unique         4\n",
              "top       spring\n",
              "freq         225\n",
              "Name: season, dtype: object"
            ]
          },
          "metadata": {},
          "execution_count": 7
        }
      ]
    },
    {
      "cell_type": "code",
      "execution_count": null,
      "metadata": {
        "id": "W98nSDPdxbYZ"
      },
      "outputs": [],
      "source": [
        "def data_loading():\n",
        "    \"\"\"\n",
        "    This function loads the training and test data, preprocesses it, removes the NaN values and interpolates the missing \n",
        "    data using imputation\n",
        "\n",
        "    Parameters\n",
        "    ----------\n",
        "    Returns\n",
        "    ----------\n",
        "    X_train: matrix of floats, training input with features\n",
        "    y_train: array of floats, training output with labels\n",
        "    X_test: matrix of floats: dim = (100, ?), test input with features\n",
        "    \"\"\"\n",
        "    # Load training data\n",
        "    train_df = pd.read_csv(\"train.csv\")\n",
        "    \n",
        "    print(\"Training data:\")\n",
        "    print(\"Shape:\", train_df.shape)\n",
        "    print(train_df.head(2))\n",
        "    print('\\n')\n",
        "    \n",
        "    # Load test data\n",
        "    test_df = pd.read_csv(\"test.csv\")\n",
        "\n",
        "    print(\"Test data:\")\n",
        "    print(test_df.shape)\n",
        "    print(test_df.head(2))\n",
        "\n",
        "    # Dummy initialization of the X_train, X_test and y_train   \n",
        "    X_train = np.zeros_like(train_df.drop(['price_CHF'],axis=1))\n",
        "    y_train = np.zeros_like(train_df['price_CHF'])\n",
        "    X_test = np.zeros_like(test_df)\n",
        "\n",
        "    # TODO: Perform data preprocessing, imputation and extract X_train, y_train and X_test\n",
        "\n",
        "    assert (X_train.shape[1] == X_test.shape[1]) and (X_train.shape[0] == y_train.shape[0]) and (X_test.shape[0] == 100), \"Invalid data shape\"\n",
        "    return X_train, y_train, X_test\n"
      ]
    },
    {
      "cell_type": "code",
      "source": [
        "def modeling_and_prediction(X_train, y_train, X_test):\n",
        "    \"\"\"\n",
        "    This function defines the model, fits training data and then does the prediction with the test data \n",
        "\n",
        "    Parameters\n",
        "    ----------\n",
        "    X_train: matrix of floats, training input with 10 features\n",
        "    y_train: array of floats, training output\n",
        "    X_test: matrix of floats: dim = (100, ?), test input with 10 features\n",
        "\n",
        "    Returns\n",
        "    ----------\n",
        "    y_test: array of floats: dim = (100,), predictions on test set\n",
        "    \"\"\"\n",
        "\n",
        "    y_pred=np.zeros(X_test.shape[0])\n",
        "    #TODO: Define the model and fit it using training data. Then, use test data to make predictions\n",
        "\n",
        "    assert y_pred.shape == (100,), \"Invalid data shape\"\n",
        "    return y_pred\n"
      ],
      "metadata": {
        "id": "Py_d_ZcmjiS8"
      },
      "execution_count": null,
      "outputs": []
    },
    {
      "cell_type": "code",
      "source": [
        "# Main function. You don't have to change this\n",
        "if __name__ == \"__main__\":\n",
        "    # Data loading\n",
        "    X_train, y_train, X_test = data_loading()\n",
        "    # The function retrieving optimal LR parameters\n",
        "    y_pred=modeling_and_prediction(X_train, y_train, X_test)\n",
        "    # Save results in the required format\n",
        "    dt = pd.DataFrame(y_pred) \n",
        "    dt.columns = ['price_CHF']\n",
        "    dt.to_csv('results.csv', index=False)\n",
        "    print(\"\\nResults file successfully generated!\")\n"
      ],
      "metadata": {
        "id": "XcVP4ZNEjmtk"
      },
      "execution_count": null,
      "outputs": []
    }
  ]
}